{
 "cells": [
  {
   "cell_type": "code",
   "execution_count": 1,
   "metadata": {},
   "outputs": [],
   "source": [
    "import pickle\n",
    "import pandas as pd\n",
    "import numpy as np"
   ]
  },
  {
   "cell_type": "code",
   "execution_count": 2,
   "metadata": {},
   "outputs": [],
   "source": [
    "# f = open(r'D:\\foodvis\\food\\ingr_map.pkl', 'rb')\n",
    "# new_dict = pickle.load(f)\n",
    "# f.close()"
   ]
  },
  {
   "cell_type": "code",
   "execution_count": 3,
   "metadata": {},
   "outputs": [],
   "source": [
    "recipes = pd.read_csv(r'D:\\foodvis\\food\\RAW_recipes.csv')"
   ]
  },
  {
   "cell_type": "code",
   "execution_count": 4,
   "metadata": {},
   "outputs": [],
   "source": [
    "tags = recipes['tags']"
   ]
  },
  {
   "cell_type": "code",
   "execution_count": 5,
   "metadata": {},
   "outputs": [],
   "source": [
    "recipes_geobool = recipes"
   ]
  },
  {
   "cell_type": "code",
   "execution_count": 6,
   "metadata": {},
   "outputs": [],
   "source": [
    "# Tag the countries\n",
    "# Steps: \n",
    "# 1. specify regions and sub-regions \n",
    "## (Important: Indian subcontinent is not in original tags but appended)\n",
    "## ('european' refers to all european countries, even scandinavian)\n",
    "\n",
    "geo_dict = {}\n",
    "\n",
    "regions = ['asian', 'north-american', 'south-american', 'european', 'african', 'central-american', 'indian-subcontinent' ]\n",
    "asian_subtags = ['asian', 'chinese', 'thai', 'japanese', 'vietnamese', 'korean', 'filipino', 'polynesian', 'indonesian', 'malaysian',  'laotian', 'mongolian']\n",
    "indian_subtags = ['indian', 'nepalese', 'pakistani']\n",
    "european_subtags = ['european','italian', 'french', 'english', 'german', 'scandinavian', 'georgian', 'spanish', 'scottish', 'irish', 'polish', 'russian', 'swiss', 'swedish', 'portuguese', \n",
    "                    'hungarian', 'danish', 'dutch', 'welsh', 'norwegian', 'finnish', 'austrian', 'belgian', 'czech', 'icelandic']\n",
    "north_american_subtags = ['north-american','american', 'southern-united-states','canadian', 'south-west-pacific', 'southwestern-united-states', 'midwestern', 'northeastern-united-states', \n",
    "                            'cajun', 'pacific-northwest', 'creole', 'californian', 'ontario', 'british-columbian', 'hawaiian', 'quebec', 'native-american', 'pennsylvania-dutch']\n",
    "central_american_subtags = ['central-american', 'caribbean', 'cuban','puerto-rican','costa-rican','mexican','honduran', 'guatemalan' ]\n",
    "south_american_subtags = ['south-american', 'brazilian', 'argentine', 'peruvian', 'chilean', 'colombian, venezuelan', 'ecuadorean']\n",
    "african_subtags = ['african', 'moroccan', 'south-african', 'ethiopian', 'libyan','nigerian', 'sudanese', 'angolan', 'congolese', 'somalian', 'namibian']\n",
    "middle_eastern_subtags = ['middle-eastern','lebanese','turkish','iranian-persian', 'egyptian', 'iraqi']\n",
    "oceania_subtags = ['australian', 'new-zealand', 'micro-melanesia', 'polynesian']\n",
    "\n",
    "# the tags that describe the US or Canada are listed separately to enable the conversion to country tags later\n",
    "us_regions = ['southern-united-states', 'south-west-pacific', 'southwestern-united-states', 'midwestern', 'northeastern-united-states', \n",
    "                            'cajun', 'pacific-northwest', 'creole', 'californian',  'hawaiian', 'native-american', 'pennsylvania-dutch']\n",
    "canadian_regions = ['ontario', 'british-columbian', 'quebec']\n",
    "\n",
    "\n",
    "for i in asian_subtags:\n",
    "    geo_dict[i] = 'asian'\n",
    "for i in indian_subtags:\n",
    "    geo_dict[i] = 'indian-subcontinent'\n",
    "for i in european_subtags:\n",
    "    geo_dict[i] = 'european'\n",
    "for i in north_american_subtags:\n",
    "    geo_dict[i] = 'north-american'\n",
    "for i in central_american_subtags:\n",
    "    geo_dict[i] = 'central-american'\n",
    "for i in south_american_subtags:\n",
    "    geo_dict[i] = 'south-american'\n",
    "for i in african_subtags:\n",
    "    geo_dict[i] = 'african'\n",
    "for i in middle_eastern_subtags:\n",
    "    geo_dict[i] = 'middle-eastern'\n",
    "for i in oceania_subtags:\n",
    "    geo_dict[i] = 'oceania'\n",
    "\n",
    "\n"
   ]
  },
  {
   "cell_type": "code",
   "execution_count": 7,
   "metadata": {},
   "outputs": [
    {
     "name": "stderr",
     "output_type": "stream",
     "text": [
      "C:\\Users\\marid\\AppData\\Local\\Temp/ipykernel_16424/172105810.py:8: SettingWithCopyWarning: \n",
      "A value is trying to be set on a copy of a slice from a DataFrame\n",
      "\n",
      "See the caveats in the documentation: https://pandas.pydata.org/pandas-docs/stable/user_guide/indexing.html#returning-a-view-versus-a-copy\n",
      "  recipes_geobool['region'][tags.str.contains(i)] = geo_dict[i]\n",
      "C:\\Users\\marid\\AppData\\Local\\Temp/ipykernel_16424/172105810.py:18: SettingWithCopyWarning: \n",
      "A value is trying to be set on a copy of a slice from a DataFrame\n",
      "\n",
      "See the caveats in the documentation: https://pandas.pydata.org/pandas-docs/stable/user_guide/indexing.html#returning-a-view-versus-a-copy\n",
      "  recipes_geobool['country'][tags.str.contains(i)] = i\n",
      "C:\\Users\\marid\\AppData\\Local\\Temp/ipykernel_16424/172105810.py:14: SettingWithCopyWarning: \n",
      "A value is trying to be set on a copy of a slice from a DataFrame\n",
      "\n",
      "See the caveats in the documentation: https://pandas.pydata.org/pandas-docs/stable/user_guide/indexing.html#returning-a-view-versus-a-copy\n",
      "  recipes_geobool['country'][tags.str.contains(i)] = 'american'\n",
      "C:\\Users\\marid\\AppData\\Local\\Temp/ipykernel_16424/172105810.py:16: SettingWithCopyWarning: \n",
      "A value is trying to be set on a copy of a slice from a DataFrame\n",
      "\n",
      "See the caveats in the documentation: https://pandas.pydata.org/pandas-docs/stable/user_guide/indexing.html#returning-a-view-versus-a-copy\n",
      "  recipes_geobool['country'][tags.str.contains(i)] = 'canadian'\n"
     ]
    }
   ],
   "source": [
    "# create new table columns with region and country\n",
    "recipes_geobool['region'] = ''\n",
    "recipes_geobool['country'] = ''\n",
    "# use geo_dict keys and values to fill in table\n",
    "\n",
    "for i in geo_dict: \n",
    "    # the value of the dictionary entry describes the corresponding region\n",
    "    recipes_geobool['region'][tags.str.contains(i)] = geo_dict[i]\n",
    "    # the key of the dictionary entry describes the corresponding country\n",
    "    # some keys are not country names, change this\n",
    "    if i in regions:\n",
    "        pass\n",
    "    elif i in us_regions:\n",
    "        recipes_geobool['country'][tags.str.contains(i)] = 'american'\n",
    "    elif i in canadian_regions:\n",
    "        recipes_geobool['country'][tags.str.contains(i)] = 'canadian'\n",
    "    else:\n",
    "        recipes_geobool['country'][tags.str.contains(i)] = i"
   ]
  },
  {
   "cell_type": "code",
   "execution_count": 8,
   "metadata": {},
   "outputs": [],
   "source": [
    "recipes_geobool.to_csv(r'D:\\foodvis\\food\\recipes_with_cuisine.csv')"
   ]
  },
  {
   "cell_type": "code",
   "execution_count": 10,
   "metadata": {},
   "outputs": [
    {
     "name": "stderr",
     "output_type": "stream",
     "text": [
      "C:\\Users\\marid\\AppData\\Local\\Temp/ipykernel_16424/2444985122.py:5: SettingWithCopyWarning: \n",
      "A value is trying to be set on a copy of a slice from a DataFrame\n",
      "\n",
      "See the caveats in the documentation: https://pandas.pydata.org/pandas-docs/stable/user_guide/indexing.html#returning-a-view-versus-a-copy\n",
      "  recipes_geobool['vegetarian/vegan'][tags.str.contains(i)] = i\n"
     ]
    }
   ],
   "source": [
    "# determine if recipes are vegetarian or vegan \n",
    "# only take those recipes explicitly labelled vegetarian or vegan, list of possible dairy products would be too difficult to obtain\n",
    "recipes_geobool['vegetarian/vegan'] = \"\"\n",
    "for i in ['vegetarian', 'vegan']:\n",
    "    recipes_geobool['vegetarian/vegan'][tags.str.contains(i)] = i"
   ]
  },
  {
   "cell_type": "code",
   "execution_count": 12,
   "metadata": {},
   "outputs": [],
   "source": [
    "recipes_geobool.to_csv(r'D:\\foodvis\\food\\recipes_with_cuisine_and_veggie.csv')"
   ]
  }
 ],
 "metadata": {
  "interpreter": {
   "hash": "2f8c0e3f1860f7fa0e891f39165880c58a651d5cf1ee652802a8ab8d985f90a9"
  },
  "kernelspec": {
   "display_name": "Python 3.8.5 64-bit ('base': conda)",
   "language": "python",
   "name": "python3"
  },
  "language_info": {
   "codemirror_mode": {
    "name": "ipython",
    "version": 3
   },
   "file_extension": ".py",
   "mimetype": "text/x-python",
   "name": "python",
   "nbconvert_exporter": "python",
   "pygments_lexer": "ipython3",
   "version": "3.8.5"
  },
  "orig_nbformat": 4
 },
 "nbformat": 4,
 "nbformat_minor": 2
}
