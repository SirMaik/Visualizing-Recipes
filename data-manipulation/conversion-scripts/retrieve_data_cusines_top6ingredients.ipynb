{
 "cells": [
  {
   "cell_type": "code",
   "execution_count": 1,
   "id": "ccb0a8c5",
   "metadata": {},
   "outputs": [],
   "source": [
    "import numpy as np\n",
    "import pandas as pd\n",
    "import ssl"
   ]
  },
  {
   "cell_type": "markdown",
   "id": "ee9daec0",
   "metadata": {},
   "source": [
    "#  Code for deriving numbers of recipes /vegan/ veggi/ average calories/ percentage values "
   ]
  },
  {
   "cell_type": "code",
   "execution_count": 460,
   "id": "fc3e160d",
   "metadata": {
    "scrolled": true
   },
   "outputs": [],
   "source": [
    "recipes= pd.read_csv(\"recipes_dropnancuisines_ratings_veggie.csv\")"
   ]
  },
  {
   "cell_type": "code",
   "execution_count": 461,
   "id": "b3724c1f",
   "metadata": {
    "scrolled": true
   },
   "outputs": [
    {
     "name": "stderr",
     "output_type": "stream",
     "text": [
      "<ipython-input-461-65b9dbd59fbf>:26: SettingWithCopyWarning: \n",
      "A value is trying to be set on a copy of a slice from a DataFrame.\n",
      "Try using .loc[row_indexer,col_indexer] = value instead\n",
      "\n",
      "See the caveats in the documentation: https://pandas.pydata.org/pandas-docs/stable/user_guide/indexing.html#returning-a-view-versus-a-copy\n",
      "  df6['firstcut']= df6['nutrition'].str.split(',').str[0]\n",
      "<ipython-input-461-65b9dbd59fbf>:27: SettingWithCopyWarning: \n",
      "A value is trying to be set on a copy of a slice from a DataFrame.\n",
      "Try using .loc[row_indexer,col_indexer] = value instead\n",
      "\n",
      "See the caveats in the documentation: https://pandas.pydata.org/pandas-docs/stable/user_guide/indexing.html#returning-a-view-versus-a-copy\n",
      "  df6['calories']= df6['firstcut'].str.split(\"[\").str[1]\n"
     ]
    }
   ],
   "source": [
    "#number of recipes per country\n",
    "c= recipes[\"country\"].value_counts()\n",
    "df1=pd.DataFrame(c)\n",
    "df1.columns = ['n_recipes']\n",
    "df1['n_recipes']=df1['n_recipes'].astype(float)\n",
    "df1.reset_index(inplace=True)\n",
    "df1.columns = ['country','n_recipes']\n",
    "\n",
    "#seperate veggi and vegan and count recipes per country\n",
    "df2= recipes.loc[recipes['vegetarian_vegan'] == 'vegan'].groupby(\"country\")['vegetarian_vegan'].value_counts()\n",
    "df3= recipes.loc[recipes['vegetarian_vegan'] == 'vegetarian'].groupby(\"country\")['vegetarian_vegan'].value_counts()\n",
    "vegan= pd.DataFrame(df2)\n",
    "vegan.columns = ['vegan_n_recipes']\n",
    "vegan['vegan_n_recipes']=vegan['vegan_n_recipes'].astype(float)\n",
    "vegan.reset_index(inplace=True)\n",
    "vegan.drop(labels=['vegetarian_vegan'], axis=1, inplace=True)\n",
    "\n",
    "vegetarian= pd.DataFrame(df3)\n",
    "vegetarian.columns = ['veggi_n_recipes']\n",
    "vegetarian['veggi_n_recipes']= vegetarian['veggi_n_recipes'].astype(float)\n",
    "vegetarian.reset_index(inplace=True)\n",
    "vegetarian.drop(labels=['vegetarian_vegan'], axis=1, inplace=True)\n",
    "\n",
    "# get first element of nutrition cell values\n",
    "df6= recipes[['country', 'nutrition']]\n",
    "df6['firstcut']= df6['nutrition'].str.split(',').str[0]\n",
    "df6['calories']= df6['firstcut'].str.split(\"[\").str[1]\n",
    "df6= df6[['country', 'calories']]\n",
    "df6['calories']= df6['calories'].astype(float)\n",
    "# calculate average calories per country\n",
    "df4= df6.groupby('country')['calories'].sum()/recipes[\"country\"].value_counts()\n",
    "average_calories= pd.DataFrame(df4)\n",
    "average_calories.columns = ['average_calories']\n",
    "average_calories.reset_index(inplace=True)\n",
    "average_calories.columns = ['country','average_calories']\n",
    "average_calories['average_calories']= average_calories['average_calories'].round(2)\n",
    "\n",
    "#merge all df's \n",
    "step1= pd.merge(df1, vegetarian, on= \"country\", how='outer')\n",
    "step2 = pd.merge(step1, vegan, on= \"country\", how='outer')\n",
    "final= pd.merge(step2, average_calories, on= \"country\", how='outer')"
   ]
  },
  {
   "cell_type": "code",
   "execution_count": 462,
   "id": "67b95618",
   "metadata": {},
   "outputs": [],
   "source": [
    "#calculate the percentages\n",
    "g= final.assign(percentage_veggi_n_recipes = lambda x: (x['veggi_n_recipes'] /x['n_recipes'] * 100).round(2))\n",
    "p_list= g.assign(percentage_vegan_n_recipes = lambda x: (x['vegan_n_recipes'] /x['n_recipes'] * 100).round(2))"
   ]
  },
  {
   "cell_type": "code",
   "execution_count": 463,
   "id": "05f47dca",
   "metadata": {},
   "outputs": [],
   "source": [
    "number_res= final.n_recipes.sum()\n",
    "number_veggi= final.veggi_n_recipes.sum()\n",
    "number_vegan= final.vegan_n_recipes.sum()\n",
    "p_veggi= (number_veggi/number_res*100).round(2)\n",
    "p_vegan= (number_vegan/number_res*100).round(2)"
   ]
  },
  {
   "cell_type": "code",
   "execution_count": 464,
   "id": "0dab62e3",
   "metadata": {},
   "outputs": [],
   "source": [
    "p_list= p_list.fillna(0)"
   ]
  },
  {
   "cell_type": "code",
   "execution_count": 465,
   "id": "1261cbe4",
   "metadata": {},
   "outputs": [],
   "source": [
    "# append world data\n",
    "p_list=p_list.append({'country':'world','n_recipes':number_res,'veggi_n_recipes':number_veggi, 'vegan_n_recipes':number_vegan, 'average_calories':0,\n",
    "               'percentage_veggi_n_recipes':p_veggi,'percentage_vegan_n_recipes':p_vegan}, ignore_index=True)"
   ]
  },
  {
   "cell_type": "code",
   "execution_count": 466,
   "id": "54b59570",
   "metadata": {},
   "outputs": [],
   "source": [
    "# create coloumn for non defined as veggi or vegan \n",
    "p_list[\"percentage_non_type\"]= 100-p_list[\"percentage_veggi_n_recipes\"]-p_list[\"percentage_vegan_n_recipes\"]"
   ]
  },
  {
   "cell_type": "code",
   "execution_count": 165,
   "id": "e1171782",
   "metadata": {},
   "outputs": [
    {
     "data": {
      "text/html": [
       "<div>\n",
       "<style scoped>\n",
       "    .dataframe tbody tr th:only-of-type {\n",
       "        vertical-align: middle;\n",
       "    }\n",
       "\n",
       "    .dataframe tbody tr th {\n",
       "        vertical-align: top;\n",
       "    }\n",
       "\n",
       "    .dataframe thead th {\n",
       "        text-align: right;\n",
       "    }\n",
       "</style>\n",
       "<table border=\"1\" class=\"dataframe\">\n",
       "  <thead>\n",
       "    <tr style=\"text-align: right;\">\n",
       "      <th></th>\n",
       "      <th>country</th>\n",
       "      <th>n_recipes</th>\n",
       "      <th>veggi_n_recipes</th>\n",
       "      <th>vegan_n_recipes</th>\n",
       "      <th>average_calories</th>\n",
       "      <th>percentage_veggi_n_recipes</th>\n",
       "      <th>percentage_vegan_n_recipes</th>\n",
       "      <th>percentage_non_type</th>\n",
       "    </tr>\n",
       "  </thead>\n",
       "  <tbody>\n",
       "    <tr>\n",
       "      <th>10</th>\n",
       "      <td>english</td>\n",
       "      <td>1151.0</td>\n",
       "      <td>286.0</td>\n",
       "      <td>47.0</td>\n",
       "      <td>516.95</td>\n",
       "      <td>24.85</td>\n",
       "      <td>4.08</td>\n",
       "      <td>71.07</td>\n",
       "    </tr>\n",
       "  </tbody>\n",
       "</table>\n",
       "</div>"
      ],
      "text/plain": [
       "    country  n_recipes  veggi_n_recipes  vegan_n_recipes  average_calories  \\\n",
       "10  english     1151.0            286.0             47.0            516.95   \n",
       "\n",
       "    percentage_veggi_n_recipes  percentage_vegan_n_recipes  \\\n",
       "10                       24.85                        4.08   \n",
       "\n",
       "    percentage_non_type  \n",
       "10                71.07  "
      ]
     },
     "execution_count": 165,
     "metadata": {},
     "output_type": "execute_result"
    }
   ],
   "source": [
    "#test to filter by country\n",
    "p_list.loc[p_list['country'] == 'english']"
   ]
  },
  {
   "cell_type": "code",
   "execution_count": null,
   "id": "88ae9d55",
   "metadata": {},
   "outputs": [],
   "source": [
    "#save as csv\n",
    "p_list.to_csv(\"cuisine_percentage_number_recipes.csv\",index=False)"
   ]
  },
  {
   "cell_type": "markdown",
   "id": "15d1cf08",
   "metadata": {},
   "source": [
    "# Code for recipe search data \n",
    "\n",
    "**not needed anymore**"
   ]
  },
  {
   "cell_type": "code",
   "execution_count": 30,
   "id": "9d60e650",
   "metadata": {},
   "outputs": [
    {
     "data": {
      "text/html": [
       "<div>\n",
       "<style scoped>\n",
       "    .dataframe tbody tr th:only-of-type {\n",
       "        vertical-align: middle;\n",
       "    }\n",
       "\n",
       "    .dataframe tbody tr th {\n",
       "        vertical-align: top;\n",
       "    }\n",
       "\n",
       "    .dataframe thead th {\n",
       "        text-align: right;\n",
       "    }\n",
       "</style>\n",
       "<table border=\"1\" class=\"dataframe\">\n",
       "  <thead>\n",
       "    <tr style=\"text-align: right;\">\n",
       "      <th></th>\n",
       "      <th>name</th>\n",
       "      <th>id</th>\n",
       "      <th>minutes</th>\n",
       "      <th>ingredients</th>\n",
       "      <th>region</th>\n",
       "      <th>country</th>\n",
       "      <th>vegetarian_vegan</th>\n",
       "      <th>rating</th>\n",
       "    </tr>\n",
       "  </thead>\n",
       "  <tbody>\n",
       "    <tr>\n",
       "      <th>0</th>\n",
       "      <td>arriba   baked winter squash mexican style</td>\n",
       "      <td>137739</td>\n",
       "      <td>55</td>\n",
       "      <td>['winter squash', 'mexican seasoning', 'mixed ...</td>\n",
       "      <td>central-american</td>\n",
       "      <td>mexican</td>\n",
       "      <td>vegetarian</td>\n",
       "      <td>5.0</td>\n",
       "    </tr>\n",
       "    <tr>\n",
       "      <th>1</th>\n",
       "      <td>a bit different  breakfast pizza</td>\n",
       "      <td>31490</td>\n",
       "      <td>30</td>\n",
       "      <td>['prepared pizza crust', 'sausage patty', 'egg...</td>\n",
       "      <td>north-american</td>\n",
       "      <td>american</td>\n",
       "      <td>NaN</td>\n",
       "      <td>3.5</td>\n",
       "    </tr>\n",
       "    <tr>\n",
       "      <th>2</th>\n",
       "      <td>amish  tomato ketchup  for canning</td>\n",
       "      <td>44061</td>\n",
       "      <td>190</td>\n",
       "      <td>['tomato juice', 'apple cider vinegar', 'sugar...</td>\n",
       "      <td>north-american</td>\n",
       "      <td>american</td>\n",
       "      <td>vegetarian</td>\n",
       "      <td>5.0</td>\n",
       "    </tr>\n",
       "    <tr>\n",
       "      <th>3</th>\n",
       "      <td>apple a day  milk shake</td>\n",
       "      <td>5289</td>\n",
       "      <td>0</td>\n",
       "      <td>['milk', 'vanilla ice cream', 'frozen apple ju...</td>\n",
       "      <td>north-american</td>\n",
       "      <td>american</td>\n",
       "      <td>NaN</td>\n",
       "      <td>5.0</td>\n",
       "    </tr>\n",
       "    <tr>\n",
       "      <th>4</th>\n",
       "      <td>aww  marinated olives</td>\n",
       "      <td>25274</td>\n",
       "      <td>15</td>\n",
       "      <td>['fennel seeds', 'green olives', 'ripe olives'...</td>\n",
       "      <td>north-american</td>\n",
       "      <td>canadian</td>\n",
       "      <td>vegan</td>\n",
       "      <td>2.0</td>\n",
       "    </tr>\n",
       "  </tbody>\n",
       "</table>\n",
       "</div>"
      ],
      "text/plain": [
       "                                         name      id  minutes  \\\n",
       "0  arriba   baked winter squash mexican style  137739       55   \n",
       "1            a bit different  breakfast pizza   31490       30   \n",
       "2          amish  tomato ketchup  for canning   44061      190   \n",
       "3                     apple a day  milk shake    5289        0   \n",
       "4                       aww  marinated olives   25274       15   \n",
       "\n",
       "                                         ingredients            region  \\\n",
       "0  ['winter squash', 'mexican seasoning', 'mixed ...  central-american   \n",
       "1  ['prepared pizza crust', 'sausage patty', 'egg...    north-american   \n",
       "2  ['tomato juice', 'apple cider vinegar', 'sugar...    north-american   \n",
       "3  ['milk', 'vanilla ice cream', 'frozen apple ju...    north-american   \n",
       "4  ['fennel seeds', 'green olives', 'ripe olives'...    north-american   \n",
       "\n",
       "    country vegetarian_vegan  rating  \n",
       "0   mexican       vegetarian     5.0  \n",
       "1  american              NaN     3.5  \n",
       "2  american       vegetarian     5.0  \n",
       "3  american              NaN     5.0  \n",
       "4  canadian            vegan     2.0  "
      ]
     },
     "execution_count": 30,
     "metadata": {},
     "output_type": "execute_result"
    }
   ],
   "source": [
    "recipes.drop(labels=['Unnamed: 0','n_ingredients','submitted', 'Unnamed: 0.1','tags', 'nutrition','n_steps', 'nutrition','n_steps','contributor_id','steps','description'], axis=1, inplace=True)"
   ]
  },
  {
   "cell_type": "code",
   "execution_count": 31,
   "id": "d3423940",
   "metadata": {},
   "outputs": [],
   "source": [
    "#save as csv or optional as json\n",
    "#recipes.to_json(\"data_recipe_search.json\",orient=\"records\")\n",
    "recipes.to_csv(\"data_recipe_search.csv\",index=False)"
   ]
  },
  {
   "cell_type": "markdown",
   "id": "6bdfc68e",
   "metadata": {},
   "source": [
    "# Code for deriving top10 ingredient list for each Country"
   ]
  },
  {
   "cell_type": "code",
   "execution_count": 680,
   "id": "09d9b9ed",
   "metadata": {},
   "outputs": [],
   "source": [
    "#load dataset\n",
    "ingredients = pd.read_csv(\"recipes_dropnancuisines_ratings_veggie.csv\")"
   ]
  },
  {
   "cell_type": "code",
   "execution_count": 681,
   "id": "c7906f76",
   "metadata": {},
   "outputs": [],
   "source": [
    "#coloumns to keep\n",
    "keep= [\"country\", \"ingredients\"]\n",
    "ingredients = ingredients[keep]\n",
    "#set coloumn country to index\n",
    "ingredients = ingredients.set_index('country')\n",
    "#split by comma\n",
    "ing= ingredients.apply(lambda x: x.str.split(',').explode())\n",
    "#delete square brackets\n",
    "ing = ing.ingredients.str.strip('[]')\n",
    "#delete  '\n",
    "ing= ing.str.replace(\"'\", \"\")\n",
    "#delete taps\n",
    "ing = ing.str.strip()"
   ]
  },
  {
   "cell_type": "code",
   "execution_count": 682,
   "id": "86af290d",
   "metadata": {},
   "outputs": [],
   "source": [
    "#store as df\n",
    "ing= pd.DataFrame(ing)\n",
    "ing =ing.reset_index()\n",
    "#get counts of ingredients per country\n",
    "grouped_list= ing.groupby(\"country\")[\"ingredients\"].value_counts()\n",
    "#store as df\n",
    "grouped= pd.DataFrame(grouped_list)\n",
    "#rename columns\n",
    "grouped.columns = ['ingredient_counts']\n",
    "grouped=grouped.reset_index()"
   ]
  },
  {
   "cell_type": "code",
   "execution_count": 683,
   "id": "9d6ddf1c",
   "metadata": {},
   "outputs": [],
   "source": [
    "#store not needed values in lists\n",
    "not_keep= ['caribbean','micro-melanesia','middle-eastern','scandinavian','scottish','welsh']\n",
    "no_top_10_ingredient= ['salt','sugar','pepper','brown sugar', 'water']\n",
    "#kepp the ones that do not contain above values\n",
    "grouped = grouped[grouped.country.isin(not_keep) == False]\n",
    "grouped = grouped[grouped.ingredients.isin(no_top_10_ingredient) == False]\n",
    "#grouped.to_csv(\"grouped_ingredient_list.csv\",index=False)"
   ]
  },
  {
   "cell_type": "code",
   "execution_count": 684,
   "id": "8f7ccfa3",
   "metadata": {},
   "outputs": [],
   "source": [
    "#store countries in a list\n",
    "countries= list(grouped.country)\n",
    "countries =list(set(countries))\n",
    "grouped_ingredients = pd.DataFrame(columns =[\"country\", \"ingredients\",\"ingredient_counts\"])\n"
   ]
  },
  {
   "cell_type": "code",
   "execution_count": 685,
   "id": "f5865dcf",
   "metadata": {},
   "outputs": [],
   "source": [
    "#append first 15 entries to df \n",
    "for i in range (len(countries)):\n",
    "    x= grouped.loc[grouped['country'] == countries[i]].head(10)\n",
    "    grouped_ingredients= grouped_ingredients.append(x, ignore_index = True)  "
   ]
  },
  {
   "cell_type": "code",
   "execution_count": 686,
   "id": "edd56946",
   "metadata": {},
   "outputs": [],
   "source": [
    "# Test sorting by country\n",
    "#grouped_ingredients.loc[grouped_ingredients['country'] == \"american\"]"
   ]
  },
  {
   "cell_type": "code",
   "execution_count": 687,
   "id": "b8d0b7f0",
   "metadata": {},
   "outputs": [],
   "source": [
    "t= grouped_ingredients.groupby('country')\n",
    "for group in t: \n",
    "    indices = list(np.where(grouped_ingredients[\"ingredients\"]=='egg')[0])\n",
    "    eggs_index= list(np.where(grouped_ingredients[\"ingredients\"]=='eggs')[0])"
   ]
  },
  {
   "cell_type": "code",
   "execution_count": 688,
   "id": "b79a1021",
   "metadata": {},
   "outputs": [],
   "source": [
    "for k in range (len(eggs_index)):\n",
    "    for j in range (len(indices)):\n",
    "        for i in range (len(countries)):\n",
    "            if((grouped_ingredients.country.iloc[eggs_index[k]]== countries[i])& (grouped_ingredients.country.iloc[indices[j]]== countries[i])):\n",
    "                r= grouped_ingredients.iat[eggs_index[k],2]+grouped_ingredients.iat[indices[j],2]\n",
    "                #print('hello',countries[i],r)\n",
    "                grouped_ingredients.iat[eggs_index[k],2]=r              \n",
    "d_egg= [\"egg\"]\n",
    "grouped_ingredients =  grouped_ingredients[ grouped_ingredients.ingredients.isin(d_egg) == False]"
   ]
  },
  {
   "cell_type": "code",
   "execution_count": 689,
   "id": "44010846",
   "metadata": {},
   "outputs": [],
   "source": [
    "top6_ingredients_countries = pd.DataFrame(columns =[\"country\", \"ingredients\",\"ingredient_counts\"])\n",
    "#reduce to top 6 ingredients \n",
    "for i in range (len(countries)):\n",
    "    x=  grouped_ingredients.loc[ grouped_ingredients['country'] == countries[i]].head(6)\n",
    "    top6_ingredients_countries = top6_ingredients_countries .append(x, ignore_index = True)"
   ]
  },
  {
   "cell_type": "code",
   "execution_count": 691,
   "id": "0228d4b8",
   "metadata": {},
   "outputs": [],
   "source": [
    "#generate World ingredients counts\n",
    "world_ingredients_list= grouped_ingredients.groupby(\"ingredients\")[\"ingredient_counts\"].sum()\n",
    "world_ingredients_list= pd.DataFrame(world_ingredients_list)\n",
    "world_ingredients_list.columns = ['ingredient_counts']\n",
    "world_ingredients_list= world_ingredients_list.reset_index()\n",
    "world_ingredients_list= world_ingredients_list.sort_values(ascending=False,by=['ingredient_counts'])\n",
    "#display top 6\n",
    "world_ingredients_list= world_ingredients_list.head(6)\n",
    "world_ingredients_list[\"country\"]= \"world\""
   ]
  },
  {
   "cell_type": "code",
   "execution_count": 693,
   "id": "2da55691",
   "metadata": {},
   "outputs": [],
   "source": [
    "#append world_ingredients_list to top6 and save as csv \n",
    "top6_ingredients= top6_ingredients_countries.append(world_ingredients_list)\n",
    "top6_ingredients= top6_ingredients.sort_values(by=['country','ingredient_counts'],ascending=False)\n",
    "top6_ingredients.to_json(\"top6_ingredients.json\",orient=\"records\")"
   ]
  }
 ],
 "metadata": {
  "kernelspec": {
   "display_name": "Python 3",
   "language": "python",
   "name": "python3"
  },
  "language_info": {
   "codemirror_mode": {
    "name": "ipython",
    "version": 3
   },
   "file_extension": ".py",
   "mimetype": "text/x-python",
   "name": "python",
   "nbconvert_exporter": "python",
   "pygments_lexer": "ipython3",
   "version": "3.8.8"
  }
 },
 "nbformat": 4,
 "nbformat_minor": 5
}
