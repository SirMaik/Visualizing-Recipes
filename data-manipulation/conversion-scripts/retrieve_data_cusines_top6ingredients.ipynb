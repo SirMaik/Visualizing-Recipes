{
 "cells": [
  {
   "cell_type": "code",
   "execution_count": 30,
   "id": "ccb0a8c5",
   "metadata": {},
   "outputs": [],
   "source": [
    "import numpy as np\n",
    "import pandas as pd\n",
    "import ssl"
   ]
  },
  {
   "cell_type": "markdown",
   "id": "ee9daec0",
   "metadata": {},
   "source": [
    "#  Code for deriving numbers of recipes /vegan/ veggi/ average calories/ percentage values "
   ]
  },
  {
   "cell_type": "code",
   "execution_count": 31,
   "id": "fc3e160d",
   "metadata": {
    "scrolled": true
   },
   "outputs": [],
   "source": [
    "recipes= pd.read_csv(\"recipes_dropnancuisines_ratings_veggie.csv\")"
   ]
  },
  {
   "cell_type": "code",
   "execution_count": 32,
   "id": "b3724c1f",
   "metadata": {
    "scrolled": true
   },
   "outputs": [
    {
     "name": "stderr",
     "output_type": "stream",
     "text": [
      "<ipython-input-32-65b9dbd59fbf>:26: SettingWithCopyWarning: \n",
      "A value is trying to be set on a copy of a slice from a DataFrame.\n",
      "Try using .loc[row_indexer,col_indexer] = value instead\n",
      "\n",
      "See the caveats in the documentation: https://pandas.pydata.org/pandas-docs/stable/user_guide/indexing.html#returning-a-view-versus-a-copy\n",
      "  df6['firstcut']= df6['nutrition'].str.split(',').str[0]\n",
      "<ipython-input-32-65b9dbd59fbf>:27: SettingWithCopyWarning: \n",
      "A value is trying to be set on a copy of a slice from a DataFrame.\n",
      "Try using .loc[row_indexer,col_indexer] = value instead\n",
      "\n",
      "See the caveats in the documentation: https://pandas.pydata.org/pandas-docs/stable/user_guide/indexing.html#returning-a-view-versus-a-copy\n",
      "  df6['calories']= df6['firstcut'].str.split(\"[\").str[1]\n"
     ]
    }
   ],
   "source": [
    "#number of recipes per country\n",
    "c= recipes[\"country\"].value_counts()\n",
    "df1=pd.DataFrame(c)\n",
    "df1.columns = ['n_recipes']\n",
    "df1['n_recipes']=df1['n_recipes'].astype(float)\n",
    "df1.reset_index(inplace=True)\n",
    "df1.columns = ['country','n_recipes']\n",
    "\n",
    "#seperate veggi and vegan and count recipes per country\n",
    "df2= recipes.loc[recipes['vegetarian_vegan'] == 'vegan'].groupby(\"country\")['vegetarian_vegan'].value_counts()\n",
    "df3= recipes.loc[recipes['vegetarian_vegan'] == 'vegetarian'].groupby(\"country\")['vegetarian_vegan'].value_counts()\n",
    "vegan= pd.DataFrame(df2)\n",
    "vegan.columns = ['vegan_n_recipes']\n",
    "vegan['vegan_n_recipes']=vegan['vegan_n_recipes'].astype(float)\n",
    "vegan.reset_index(inplace=True)\n",
    "vegan.drop(labels=['vegetarian_vegan'], axis=1, inplace=True)\n",
    "\n",
    "vegetarian= pd.DataFrame(df3)\n",
    "vegetarian.columns = ['veggi_n_recipes']\n",
    "vegetarian['veggi_n_recipes']= vegetarian['veggi_n_recipes'].astype(float)\n",
    "vegetarian.reset_index(inplace=True)\n",
    "vegetarian.drop(labels=['vegetarian_vegan'], axis=1, inplace=True)\n",
    "\n",
    "# get first element of nutrition cell values\n",
    "df6= recipes[['country', 'nutrition']]\n",
    "df6['firstcut']= df6['nutrition'].str.split(',').str[0]\n",
    "df6['calories']= df6['firstcut'].str.split(\"[\").str[1]\n",
    "df6= df6[['country', 'calories']]\n",
    "df6['calories']= df6['calories'].astype(float)\n",
    "# calculate average calories per country\n",
    "df4= df6.groupby('country')['calories'].sum()/recipes[\"country\"].value_counts()\n",
    "average_calories= pd.DataFrame(df4)\n",
    "average_calories.columns = ['average_calories']\n",
    "average_calories.reset_index(inplace=True)\n",
    "average_calories.columns = ['country','average_calories']\n",
    "average_calories['average_calories']= average_calories['average_calories'].round(2)\n",
    "\n",
    "#merge all df's \n",
    "step1= pd.merge(df1, vegetarian, on= \"country\", how='outer')\n",
    "step2 = pd.merge(step1, vegan, on= \"country\", how='outer')\n",
    "final= pd.merge(step2, average_calories, on= \"country\", how='outer')"
   ]
  },
  {
   "cell_type": "code",
   "execution_count": 33,
   "id": "67b95618",
   "metadata": {},
   "outputs": [],
   "source": [
    "#calculate the percentages\n",
    "g= final.assign(percentage_veggi_n_recipes = lambda x: (x['veggi_n_recipes'] /x['n_recipes'] * 100).round(2))\n",
    "p_list= g.assign(percentage_vegan_n_recipes = lambda x: (x['vegan_n_recipes'] /x['n_recipes'] * 100).round(2))"
   ]
  },
  {
   "cell_type": "code",
   "execution_count": 34,
   "id": "05f47dca",
   "metadata": {},
   "outputs": [],
   "source": [
    "number_res= final.n_recipes.sum()\n",
    "number_veggi= final.veggi_n_recipes.sum()\n",
    "number_vegan= final.vegan_n_recipes.sum()\n",
    "p_veggi= (number_veggi/number_res*100).round(2)\n",
    "p_vegan= (number_vegan/number_res*100).round(2)"
   ]
  },
  {
   "cell_type": "code",
   "execution_count": 35,
   "id": "0dab62e3",
   "metadata": {},
   "outputs": [],
   "source": [
    "p_list= p_list.fillna(0)"
   ]
  },
  {
   "cell_type": "code",
   "execution_count": 36,
   "id": "1261cbe4",
   "metadata": {},
   "outputs": [],
   "source": [
    "# append world data\n",
    "p_list=p_list.append({'country':'world','n_recipes':number_res,'veggi_n_recipes':number_veggi, 'vegan_n_recipes':number_vegan, 'average_calories':0,\n",
    "               'percentage_veggi_n_recipes':p_veggi,'percentage_vegan_n_recipes':p_vegan}, ignore_index=True)"
   ]
  },
  {
   "cell_type": "code",
   "execution_count": 37,
   "id": "54b59570",
   "metadata": {},
   "outputs": [],
   "source": [
    "# create coloumn for non defined as veggi or vegan \n",
    "p_list[\"percentage_non_type\"]= 100-p_list[\"percentage_veggi_n_recipes\"]-p_list[\"percentage_vegan_n_recipes\"]"
   ]
  },
  {
   "cell_type": "code",
   "execution_count": 38,
   "id": "e1171782",
   "metadata": {},
   "outputs": [],
   "source": [
    "#test to filter by country\n",
    "#p_list.loc[p_list['country'] == 'english']"
   ]
  },
  {
   "cell_type": "code",
   "execution_count": null,
   "id": "88ae9d55",
   "metadata": {},
   "outputs": [],
   "source": [
    "#save as csv\n",
    "p_list.to_csv(\"cuisine_percentage_number_recipes.csv\",index=False)"
   ]
  },
  {
   "cell_type": "markdown",
   "id": "15d1cf08",
   "metadata": {},
   "source": [
    "# Code for recipe search data \n",
    "\n",
    "**not needed anymore**"
   ]
  },
  {
   "cell_type": "code",
   "execution_count": 39,
   "id": "9d60e650",
   "metadata": {},
   "outputs": [],
   "source": [
    "recipes.drop(labels=['Unnamed: 0','n_ingredients','submitted', 'Unnamed: 0.1','tags', 'nutrition','n_steps', 'nutrition','n_steps','contributor_id','steps','description'], axis=1, inplace=True)"
   ]
  },
  {
   "cell_type": "code",
   "execution_count": 40,
   "id": "d3423940",
   "metadata": {},
   "outputs": [],
   "source": [
    "#save as csv or optional as json\n",
    "#recipes.to_json(\"data_recipe_search.json\",orient=\"records\")\n",
    "recipes.to_csv(\"data_recipe_search.csv\",index=False)"
   ]
  },
  {
   "cell_type": "markdown",
   "id": "6bdfc68e",
   "metadata": {},
   "source": [
    "# Code for deriving top10 ingredient list for each Country"
   ]
  },
  {
   "cell_type": "code",
   "execution_count": 41,
   "id": "09d9b9ed",
   "metadata": {},
   "outputs": [],
   "source": [
    "#load dataset\n",
    "ingredients = pd.read_csv(\"recipes_dropnancuisines_ratings_veggie.csv\")"
   ]
  },
  {
   "cell_type": "code",
   "execution_count": 42,
   "id": "c7906f76",
   "metadata": {},
   "outputs": [],
   "source": [
    "#coloumns to keep\n",
    "keep= [\"country\", \"ingredients\"]\n",
    "ingredients = ingredients[keep]\n",
    "#set coloumn country to index\n",
    "ingredients = ingredients.set_index('country')\n",
    "#split by comma\n",
    "ing= ingredients.apply(lambda x: x.str.split(',').explode())\n",
    "#delete square brackets\n",
    "ing = ing.ingredients.str.strip('[]')\n",
    "#delete  '\n",
    "ing= ing.str.replace(\"'\", \"\")\n",
    "#delete taps\n",
    "ing = ing.str.strip()"
   ]
  },
  {
   "cell_type": "code",
   "execution_count": 43,
   "id": "86af290d",
   "metadata": {},
   "outputs": [],
   "source": [
    "#store as df\n",
    "ing= pd.DataFrame(ing)\n",
    "ing =ing.reset_index()\n",
    "#get counts of ingredients per country\n",
    "grouped_list= ing.groupby(\"country\")[\"ingredients\"].value_counts()\n",
    "#store as df\n",
    "grouped= pd.DataFrame(grouped_list)\n",
    "#rename columns\n",
    "grouped.columns = ['ingredient_counts']\n",
    "grouped=grouped.reset_index()"
   ]
  },
  {
   "cell_type": "code",
   "execution_count": 44,
   "id": "9d6ddf1c",
   "metadata": {},
   "outputs": [],
   "source": [
    "#store not needed values in lists\n",
    "not_keep= ['caribbean','micro-melanesia','middle-eastern','scandinavian','scottish','welsh']\n",
    "no_top_10_ingredient= ['salt','sugar','pepper','back pepper','salz and pepper','cayenne pepper','green pepper','brown sugar', 'water']\n",
    "#kepp the ones that do not contain above values\n",
    "grouped = grouped[grouped.country.isin(not_keep) == False]\n",
    "grouped = grouped[grouped.ingredients.isin(no_top_10_ingredient) == False]\n",
    "#grouped.to_csv(\"grouped_ingredient_list.csv\",index=False)"
   ]
  },
  {
   "cell_type": "code",
   "execution_count": 45,
   "id": "1a84666b",
   "metadata": {},
   "outputs": [],
   "source": [
    "#store countries in a list\n",
    "countries= list(grouped.country)\n",
    "countries =list(set(countries))\n",
    "grouped_ingredients = pd.DataFrame(columns =[\"country\", \"ingredients\",\"ingredient_counts\"])\n"
   ]
  },
  {
   "cell_type": "code",
   "execution_count": 46,
   "id": "7fb628b2",
   "metadata": {},
   "outputs": [],
   "source": [
    "#append first 15 entries to df \n",
    "for i in range (len(countries)):\n",
    "    x= grouped.loc[grouped['country'] == countries[i]].head(10)\n",
    "    grouped_ingredients= grouped_ingredients.append(x, ignore_index = True)  "
   ]
  },
  {
   "cell_type": "code",
   "execution_count": 47,
   "id": "f671c3da",
   "metadata": {},
   "outputs": [],
   "source": [
    "# add values from egg and eggs together\n",
    "t= grouped_ingredients.groupby('country')\n",
    "for group in t: \n",
    "    indices = list(np.where(grouped_ingredients[\"ingredients\"]=='egg')[0])\n",
    "    eggs_index= list(np.where(grouped_ingredients[\"ingredients\"]=='eggs')[0])"
   ]
  },
  {
   "cell_type": "code",
   "execution_count": 48,
   "id": "a1ec1f53",
   "metadata": {},
   "outputs": [],
   "source": [
    "for k in range (len(eggs_index)):\n",
    "    for j in range (len(indices)):\n",
    "        for i in range (len(countries)):\n",
    "            if((grouped_ingredients.country.iloc[eggs_index[k]]== countries[i])& (grouped_ingredients.country.iloc[indices[j]]== countries[i])):\n",
    "                r= grouped_ingredients.iat[eggs_index[k],2]+grouped_ingredients.iat[indices[j],2]\n",
    "                #print('hello',countries[i],r)\n",
    "                grouped_ingredients.iat[eggs_index[k],2]=r              \n",
    "d_egg= [\"egg\"]\n",
    "grouped_ingredients =  grouped_ingredients[ grouped_ingredients.ingredients.isin(d_egg) == False]"
   ]
  },
  {
   "cell_type": "code",
   "execution_count": 49,
   "id": "133e0ac9",
   "metadata": {},
   "outputs": [],
   "source": [
    "# add onions to onion\n",
    "v= grouped_ingredients.groupby('country')\n",
    "for group in v: \n",
    "    indices_onion = list(np.where(grouped_ingredients[\"ingredients\"]=='onions')[0])\n",
    "    onion_index= list(np.where(grouped_ingredients[\"ingredients\"]== 'onion')[0])"
   ]
  },
  {
   "cell_type": "code",
   "execution_count": 50,
   "id": "6fa586d2",
   "metadata": {},
   "outputs": [],
   "source": [
    "for k in range (len(onion_index)):\n",
    "    for j in range (len(indices_onion)):\n",
    "        for i in range (len(countries)):\n",
    "            if((grouped_ingredients.country.iloc[onion_index[k]]== countries[i])& (grouped_ingredients.country.iloc[indices_onion[j]]== countries[i])):\n",
    "                r= grouped_ingredients.iat[onion_index[k],2]+grouped_ingredients.iat[indices_onion[j],2]\n",
    "                #print('hello',countries[i],r)\n",
    "                grouped_ingredients.iat[onion_index[k],2]=r              \n",
    "d_onions= [\"onions\"]\n",
    "grouped_ingredients =  grouped_ingredients[ grouped_ingredients.ingredients.isin(d_onions) == False]"
   ]
  },
  {
   "cell_type": "code",
   "execution_count": 51,
   "id": "e395a816",
   "metadata": {},
   "outputs": [],
   "source": [
    "#add garlic to garlic cloves\n",
    "w= grouped_ingredients.groupby('country')\n",
    "for group in w: \n",
    "    indices_garlic = list(np.where(grouped_ingredients[\"ingredients\"]=='garlic')[0])\n",
    "    garlic_index= list(np.where(grouped_ingredients[\"ingredients\"]== 'garlic cloves')[0])"
   ]
  },
  {
   "cell_type": "code",
   "execution_count": 52,
   "id": "8900ae3e",
   "metadata": {},
   "outputs": [],
   "source": [
    "for k in range (len(garlic_index)):\n",
    "    for j in range (len(indices_garlic)):\n",
    "        for i in range (len(countries)):\n",
    "            if((grouped_ingredients.country.iloc[garlic_index[k]]== countries[i])& (grouped_ingredients.country.iloc[indices_garlic[j]]== countries[i])):\n",
    "                r= grouped_ingredients.iat[garlic_index[k],2]+grouped_ingredients.iat[indices_garlic[j],2]\n",
    "                #print('hello',countries[i],r)\n",
    "                grouped_ingredients.iat[garlic_index[k],2]=r              \n",
    "d_garlic= [\"garlic\"]\n",
    "grouped_ingredients =  grouped_ingredients[ grouped_ingredients.ingredients.isin(d_garlic) == False]"
   ]
  },
  {
   "cell_type": "code",
   "execution_count": 53,
   "id": "61bad3e8",
   "metadata": {},
   "outputs": [],
   "source": [
    "# add garlic cloves to garlic clove\n",
    "q= grouped_ingredients.groupby('country')\n",
    "for group in q: \n",
    "    indices_garlic_2 = list(np.where(grouped_ingredients[\"ingredients\"]=='garlic clove')[0])\n",
    "    garlic_index_2= list(np.where(grouped_ingredients[\"ingredients\"]== 'garlic cloves')[0])"
   ]
  },
  {
   "cell_type": "code",
   "execution_count": 54,
   "id": "47a15436",
   "metadata": {},
   "outputs": [],
   "source": [
    "for k in range (len(garlic_index_2)):\n",
    "    for j in range (len(indices_garlic_2)):\n",
    "        for i in range (len(countries)):\n",
    "            if((grouped_ingredients.country.iloc[garlic_index_2[k]]== countries[i])& (grouped_ingredients.country.iloc[indices_garlic_2[j]]== countries[i])):\n",
    "                r= grouped_ingredients.iat[garlic_index_2[k],2]+grouped_ingredients.iat[indices_garlic_2[j],2]\n",
    "                #print('hello',countries[i],r)\n",
    "                grouped_ingredients.iat[garlic_index_2[k],2]=r              \n",
    "d_gclove= [\"garlic clove\"]\n",
    "grouped_ingredients =  grouped_ingredients[ grouped_ingredients.ingredients.isin(d_gclove) == False]"
   ]
  },
  {
   "cell_type": "code",
   "execution_count": 55,
   "id": "472c07fd",
   "metadata": {},
   "outputs": [],
   "source": [
    "top6_ingredients_countries = pd.DataFrame(columns =[\"country\", \"ingredients\",\"ingredient_counts\"])\n",
    "#reduce to top 6 ingredients \n",
    "for i in range (len(countries)):\n",
    "    x=  grouped_ingredients.loc[ grouped_ingredients['country'] == countries[i]].head(6)\n",
    "    top6_ingredients_countries = top6_ingredients_countries .append(x, ignore_index = True)"
   ]
  },
  {
   "cell_type": "code",
   "execution_count": 56,
   "id": "b2eb7f0e",
   "metadata": {},
   "outputs": [],
   "source": [
    "#generate World ingredients counts\n",
    "world_ingredients_list= grouped_ingredients.groupby(\"ingredients\")[\"ingredient_counts\"].sum()\n",
    "world_ingredients_list= pd.DataFrame(world_ingredients_list)\n",
    "world_ingredients_list.columns = ['ingredient_counts']\n",
    "world_ingredients_list= world_ingredients_list.reset_index()\n",
    "world_ingredients_list= world_ingredients_list.sort_values(ascending=False,by=['ingredient_counts'])\n",
    "#display top 6\n",
    "world_ingredients_list= world_ingredients_list.head(6)\n",
    "world_ingredients_list[\"country\"]= \"world\""
   ]
  },
  {
   "cell_type": "code",
   "execution_count": 57,
   "id": "55af1824",
   "metadata": {},
   "outputs": [],
   "source": [
    "#append world_ingredients_list to top6 and save as csv \n",
    "top6_ingredients= top6_ingredients_countries.append(world_ingredients_list)\n",
    "top6_ingredients= top6_ingredients.sort_values(by=['country','ingredient_counts'],ascending=False)\n",
    "top6_ingredients.to_json(\"top6_ingredients.json\",orient=\"records\")"
   ]
  }
 ],
 "metadata": {
  "kernelspec": {
   "display_name": "Python 3",
   "language": "python",
   "name": "python3"
  },
  "language_info": {
   "codemirror_mode": {
    "name": "ipython",
    "version": 3
   },
   "file_extension": ".py",
   "mimetype": "text/x-python",
   "name": "python",
   "nbconvert_exporter": "python",
   "pygments_lexer": "ipython3",
   "version": "3.8.8"
  }
 },
 "nbformat": 4,
 "nbformat_minor": 5
}
