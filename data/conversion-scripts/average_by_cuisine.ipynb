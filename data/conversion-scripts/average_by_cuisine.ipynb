{
 "cells": [
  {
   "cell_type": "code",
   "execution_count": 1,
   "metadata": {},
   "outputs": [],
   "source": [
    "import pandas as pd"
   ]
  },
  {
   "cell_type": "code",
   "execution_count": 2,
   "metadata": {},
   "outputs": [],
   "source": [
    "recipes = pd.read_csv(r'D:\\foodvis\\food\\recipes_dropnancuisines_ratings_veggie.csv')\n",
    "recipes = recipes.drop(axis=1,labels=['Unnamed: 0'])\n",
    "recipes = recipes.drop(axis=1,labels=['Unnamed: 0.1'])"
   ]
  },
  {
   "cell_type": "code",
   "execution_count": 3,
   "metadata": {},
   "outputs": [],
   "source": [
    "countries = recipes.groupby('country').mean()\n",
    "countries = countries.reset_index()\n",
    "countries = countries.drop(axis=1,labels=['id'])\n",
    "countries = countries.drop(axis=1,labels=['contributor_id'])\n"
   ]
  },
  {
   "cell_type": "code",
   "execution_count": 5,
   "metadata": {},
   "outputs": [],
   "source": [
    "countries.to_csv(r'D:\\foodvis\\food\\recipes_by_cuisine_mean.csv')"
   ]
  }
 ],
 "metadata": {
  "interpreter": {
   "hash": "2f8c0e3f1860f7fa0e891f39165880c58a651d5cf1ee652802a8ab8d985f90a9"
  },
  "kernelspec": {
   "display_name": "Python 3.8.5 64-bit ('base': conda)",
   "language": "python",
   "name": "python3"
  },
  "language_info": {
   "codemirror_mode": {
    "name": "ipython",
    "version": 3
   },
   "file_extension": ".py",
   "mimetype": "text/x-python",
   "name": "python",
   "nbconvert_exporter": "python",
   "pygments_lexer": "ipython3",
   "version": "3.8.5"
  },
  "orig_nbformat": 4
 },
 "nbformat": 4,
 "nbformat_minor": 2
}
