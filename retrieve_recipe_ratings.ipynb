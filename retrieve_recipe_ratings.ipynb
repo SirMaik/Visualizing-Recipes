{
 "cells": [
  {
   "cell_type": "code",
   "execution_count": 1,
   "metadata": {},
   "outputs": [],
   "source": [
    "import pandas as pd\n",
    "import numpy as np"
   ]
  },
  {
   "cell_type": "code",
   "execution_count": 48,
   "metadata": {},
   "outputs": [],
   "source": [
    "table = pd.read_csv(r'D:\\foodvis\\food\\RAW_interactions.csv')"
   ]
  },
  {
   "cell_type": "code",
   "execution_count": 80,
   "metadata": {},
   "outputs": [],
   "source": [
    "ratings = table.groupby('recipe_id').mean().drop(axis=1,labels=['user_id'])\n",
    "ratings = ratings.reset_index()"
   ]
  },
  {
   "cell_type": "code",
   "execution_count": 61,
   "metadata": {},
   "outputs": [],
   "source": [
    "ratings.to_csv(r'D:\\foodvis\\food\\recipe_ratings.csv')"
   ]
  },
  {
   "cell_type": "code",
   "execution_count": 62,
   "metadata": {},
   "outputs": [],
   "source": [
    "cuisines = pd.read_csv(r'D:\\foodvis\\food\\recipes_with_cuisine.csv')"
   ]
  },
  {
   "cell_type": "code",
   "execution_count": 85,
   "metadata": {},
   "outputs": [],
   "source": [
    "cuisines = cuisines.drop(axis =1,labels=['Unnamed: 0'])\n",
    "ratings = ratings.rename(columns= {\"recipe_id\":\"id\"})"
   ]
  },
  {
   "cell_type": "code",
   "execution_count": 87,
   "metadata": {},
   "outputs": [],
   "source": [
    "# merge recipe dataframe with cuisines and ratings on recipe id\n",
    "cuisines = pd.merge(left=cuisines, right=ratings, on='id')"
   ]
  },
  {
   "cell_type": "code",
   "execution_count": 89,
   "metadata": {},
   "outputs": [],
   "source": [
    "cuisines.to_csv(r'D:\\foodvis\\food\\recipes_cuisines_and_ratings.csv')"
   ]
  },
  {
   "cell_type": "code",
   "execution_count": null,
   "metadata": {},
   "outputs": [],
   "source": []
  }
 ],
 "metadata": {
  "interpreter": {
   "hash": "2f8c0e3f1860f7fa0e891f39165880c58a651d5cf1ee652802a8ab8d985f90a9"
  },
  "kernelspec": {
   "display_name": "Python 3.8.5 64-bit ('base': conda)",
   "language": "python",
   "name": "python3"
  },
  "language_info": {
   "codemirror_mode": {
    "name": "ipython",
    "version": 3
   },
   "file_extension": ".py",
   "mimetype": "text/x-python",
   "name": "python",
   "nbconvert_exporter": "python",
   "pygments_lexer": "ipython3",
   "version": "3.8.5"
  },
  "orig_nbformat": 4
 },
 "nbformat": 4,
 "nbformat_minor": 2
}
